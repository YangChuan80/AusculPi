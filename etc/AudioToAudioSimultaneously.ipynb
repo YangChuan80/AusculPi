{
 "cells": [
  {
   "cell_type": "code",
   "execution_count": null,
   "metadata": {},
   "outputs": [],
   "source": [
    "import pyaudio\n",
    "import numpy as np"
   ]
  },
  {
   "cell_type": "code",
   "execution_count": null,
   "metadata": {},
   "outputs": [],
   "source": [
    "# The following code comes from markjay4k as referenced below\n",
    "chunk = 512\n",
    "RATE = 44100"
   ]
  },
  {
   "cell_type": "code",
   "execution_count": null,
   "metadata": {},
   "outputs": [],
   "source": [
    "# Define the object\n",
    "p = pyaudio.PyAudio()"
   ]
  },
  {
   "cell_type": "code",
   "execution_count": null,
   "metadata": {},
   "outputs": [],
   "source": [
    "# input stream setup\n",
    "stream = p.open(format = pyaudio.paInt16,\n",
    "                rate=RATE,\n",
    "                channels=1, \n",
    "                input_device_index = 2, \n",
    "                input=True, \n",
    "                frames_per_buffer=chunk)\n",
    "\n",
    "# the code below is from the pyAudio library documentation referenced below\n",
    "#output stream setup\n",
    "player = p.open(format = pyaudio.paInt16,\n",
    "                rate=RATE,\n",
    "                channels=1, \n",
    "                output=True, \n",
    "                frames_per_buffer=chunk)"
   ]
  },
  {
   "cell_type": "code",
   "execution_count": null,
   "metadata": {},
   "outputs": [],
   "source": [
    "while True:            #Used to continuously stream audio\n",
    "    data = np.fromstring(stream.read(chunk,exception_on_overflow = False),dtype=np.int16)\n",
    "    player.write(data,chunk)"
   ]
  },
  {
   "cell_type": "code",
   "execution_count": null,
   "metadata": {},
   "outputs": [],
   "source": [
    "#closes streams\n",
    "stream.stop_stream()\n",
    "stream.close()\n",
    "p.terminate"
   ]
  }
 ],
 "metadata": {
  "kernelspec": {
   "display_name": "Python 3",
   "language": "python",
   "name": "python3"
  },
  "language_info": {
   "codemirror_mode": {
    "name": "ipython",
    "version": 3
   },
   "file_extension": ".py",
   "mimetype": "text/x-python",
   "name": "python",
   "nbconvert_exporter": "python",
   "pygments_lexer": "ipython3",
   "version": "3.7.3"
  }
 },
 "nbformat": 4,
 "nbformat_minor": 2
}
