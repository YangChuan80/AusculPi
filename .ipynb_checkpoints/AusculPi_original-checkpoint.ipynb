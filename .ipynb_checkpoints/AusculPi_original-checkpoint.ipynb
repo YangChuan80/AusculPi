{
 "cells": [
  {
   "cell_type": "code",
   "execution_count": null,
   "metadata": {},
   "outputs": [],
   "source": [
    "import pyaudio\n",
    "import numpy as np\n",
    "import wave\n",
    "import os\n",
    "import datetime\n",
    "import RPi.GPIO as GPIO # Import Raspberry Pi GPIO library\n",
    "import matplotlib.pyplot as plt"
   ]
  },
  {
   "cell_type": "code",
   "execution_count": null,
   "metadata": {},
   "outputs": [],
   "source": [
    "GPIO.setwarnings(False) # Ignore warning for now\n",
    "GPIO.setmode(GPIO.BOARD) # Use physical pin numbering\n",
    "GPIO.setup(10, GPIO.IN, pull_up_down=GPIO.PUD_DOWN) # Set pin 10 to be an input pin and set initial value to be pulled low (off)"
   ]
  },
  {
   "cell_type": "code",
   "execution_count": null,
   "metadata": {},
   "outputs": [],
   "source": [
    "#The following code comes from markjay4k as referenced below\n",
    "chunk = 512\n",
    "samp_rate = 44100\n",
    "\n",
    "form_1 = pyaudio.paInt16\n",
    "chans = 1\n",
    "\n",
    "record_secs = 30     #record time\n",
    "dev_index = 2"
   ]
  },
  {
   "cell_type": "code",
   "execution_count": null,
   "metadata": {},
   "outputs": [],
   "source": [
    "def aboutAusculPi():\n",
    "    "
   ]
  },
  {
   "cell_type": "code",
   "execution_count": null,
   "metadata": {},
   "outputs": [],
   "source": [
    "def button_callback(channel):\n",
    "    global frames, frames_numpy\n",
    "    \n",
    "    print(\"Button was pushed!\")\n",
    "\n",
    "    now = datetime.datetime.now()\n",
    "    filename_wav = 'Wave_File_' + str(now)[:10] + now.strftime(\"_%H_%M_%S.wav\")\n",
    "    filename_png = 'Chart_File_' + str(now)[:10] + now.strftime(\"_%H_%M_%S.png\")\n",
    "    filename_np = 'Array_File_' + str(now)[:10] + now.strftime(\"_%H_%M_%S.np\")\n",
    "    wav_output_filename = filename_wav\n",
    "    png_output_filename = filename_png\n",
    "    np_output_filename = filename_np\n",
    "    \n",
    "\n",
    "    p = pyaudio.PyAudio()\n",
    "\n",
    "    #setup audio input stream\n",
    "    stream = p.open(format = form_1,\n",
    "                    rate=samp_rate,\n",
    "                    channels=chans,\n",
    "                    input_device_index = dev_index,\n",
    "                    input=True,\n",
    "                    frames_per_buffer=chunk)\n",
    "\n",
    "    # the code below is from the pyAudio library documentation referenced below\n",
    "    #output stream setup\n",
    "    player = p.open(format = form_1,\n",
    "                    rate=samp_rate,\n",
    "                    channels=chans,\n",
    "                    output=True,\n",
    "                    frames_per_buffer=chunk)\n",
    "\n",
    "    print(\"Broadcasting & Recording\")\n",
    "    frames = []\n",
    "    frames_numpy = []\n",
    "\n",
    "    for ii in range(0,int((samp_rate/chunk)*record_secs)):\n",
    "        data = stream.read(chunk,exception_on_overflow = False)\n",
    "        frames.append(data)\n",
    "    \n",
    "        data_numpy = np.fromstring(data, dtype=np.int16)\n",
    "        player.write(data_numpy, chunk)\n",
    "        frames_numpy.append(data_numpy)\n",
    "\n",
    "    print(\"Finished recording\")\n",
    "\n",
    "    stream.stop_stream()\n",
    "    stream.close()\n",
    "    p.terminate()\n",
    "\n",
    "    #creates wave file with audio read in\n",
    "    #Code is from the wave file audio tutorial as referenced below\n",
    "    wavefile = wave.open(wav_output_filename,'wb')\n",
    "    wavefile.setnchannels(chans)\n",
    "    wavefile.setsampwidth(p.get_sample_size(form_1))\n",
    "    wavefile.setframerate(samp_rate)\n",
    "    wavefile.writeframes(b''.join(frames))\n",
    "    wavefile.close()\n",
    "\n",
    "    #plays the audio file\n",
    "    #os.system(\"aplay \" + filename_wav)    \n",
    "    \n",
    "    # Export the plot:\n",
    "    '''\n",
    "    fig = plt.figure()\n",
    "    s = fig.add_subplot(111)\n",
    "    s.plot(frames_numpy)\n",
    "    fig.savefig(png_output_filename, dpi=200)\n",
    "    '''\n",
    "    np.save(np_output_filename, frames_numpy)"
   ]
  },
  {
   "cell_type": "code",
   "execution_count": null,
   "metadata": {},
   "outputs": [],
   "source": [
    "'''\n",
    "GPIO.add_event_detect(10,GPIO.RISING,callback=button_callback) # Setup event on pin 10 rising edge\n",
    "\n",
    "\n",
    "message = input(\"Press enter to quit\\n\\n\") # Run until someone presses enter\n",
    "GPIO.cleanup() # Clean up\n",
    "'''"
   ]
  }
 ],
 "metadata": {
  "kernelspec": {
   "display_name": "Python 3",
   "language": "python",
   "name": "python3"
  },
  "language_info": {
   "codemirror_mode": {
    "name": "ipython",
    "version": 3
   },
   "file_extension": ".py",
   "mimetype": "text/x-python",
   "name": "python",
   "nbconvert_exporter": "python",
   "pygments_lexer": "ipython3",
   "version": "3.7.4"
  }
 },
 "nbformat": 4,
 "nbformat_minor": 2
}
