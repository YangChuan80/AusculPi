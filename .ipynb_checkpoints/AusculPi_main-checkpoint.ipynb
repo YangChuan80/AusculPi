{
 "cells": [
  {
   "cell_type": "code",
   "execution_count": 1,
   "metadata": {},
   "outputs": [],
   "source": [
    "import pyaudio\n",
    "\n",
    "import numpy as np\n",
    "\n",
    "import wave\n",
    "import os\n",
    "import datetime\n",
    "\n",
    "import RPi.GPIO as GPIO # Import Raspberry Pi GPIO library\n",
    "\n",
    "import matplotlib.pyplot as plt\n",
    "\n",
    "import tkinter as tk\n",
    "from tkinter import messagebox"
   ]
  },
  {
   "cell_type": "code",
   "execution_count": 2,
   "metadata": {},
   "outputs": [
    {
     "data": {
      "text/plain": [
       "'\\nGPIO.setwarnings(False) # Ignore warning for now\\nGPIO.setmode(GPIO.BOARD) # Use physical pin numbering\\nGPIO.setup(10, GPIO.IN, pull_up_down=GPIO.PUD_DOWN) # Set pin 10 to be an input pin and set initial value to be pulled low (off)\\n'"
      ]
     },
     "execution_count": 2,
     "metadata": {},
     "output_type": "execute_result"
    }
   ],
   "source": [
    "'''\n",
    "GPIO.setwarnings(False) # Ignore warning for now\n",
    "GPIO.setmode(GPIO.BOARD) # Use physical pin numbering\n",
    "GPIO.setup(10, GPIO.IN, pull_up_down=GPIO.PUD_DOWN) # Set pin 10 to be an input pin and set initial value to be pulled low (off)\n",
    "'''"
   ]
  },
  {
   "cell_type": "code",
   "execution_count": 3,
   "metadata": {},
   "outputs": [
    {
     "data": {
      "text/plain": [
       "'#The following code comes from markjay4k as referenced below\\nchunk = 512\\nsamp_rate = 44100\\n\\nform_1 = pyaudio.paInt16\\nchans = 1\\n\\nrecord_secs = 30     #record time\\ndev_index = 2\\n'"
      ]
     },
     "execution_count": 3,
     "metadata": {},
     "output_type": "execute_result"
    }
   ],
   "source": [
    "#The following code comes from markjay4k as referenced below\n",
    "chunk = 512\n",
    "samp_rate = 44100\n",
    "\n",
    "form_1 = pyaudio.paInt16\n",
    "chans = 1\n",
    "\n",
    "record_secs = 30     #record time\n",
    "dev_index = 2"
   ]
  },
  {
   "cell_type": "code",
   "execution_count": 4,
   "metadata": {},
   "outputs": [],
   "source": [
    "def about():\n",
    "    messagebox.showinfo(\"About\", \"Author & Coder: Chuan Yang\")"
   ]
  },
  {
   "cell_type": "code",
   "execution_count": 5,
   "metadata": {},
   "outputs": [],
   "source": [
    "def replay():\n",
    "    #plays the audio file\n",
    "    os.system(\"aplay \" + filename_wav)    "
   ]
  },
  {
   "cell_type": "code",
   "execution_count": 6,
   "metadata": {},
   "outputs": [],
   "source": [
    "def button_callback(channel):\n",
    "    global frames, frames_numpy, filename_wav, filename_png, filename_np\n",
    "    \n",
    "    text_status.delete('1.0', tk.END)\n",
    "    text_status.insert('1.0', \"Button was pushed!\")     \n",
    "    #print(\"Button was pushed!\")\n",
    "\n",
    "    now = datetime.datetime.now()\n",
    "    filename_wav = 'Wave_File_' + str(now)[:10] + now.strftime(\"_%H_%M_%S.wav\")\n",
    "    filename_png = 'Chart_File_' + str(now)[:10] + now.strftime(\"_%H_%M_%S.png\")\n",
    "    filename_np = 'Array_File_' + str(now)[:10] + now.strftime(\"_%H_%M_%S\")\n",
    "    wav_output_filename = filename_wav\n",
    "    png_output_filename = filename_png\n",
    "    np_output_filename = filename_np\n",
    "    \n",
    "\n",
    "    p = pyaudio.PyAudio()\n",
    "\n",
    "    #setup audio input stream\n",
    "    stream = p.open(format = form_1,\n",
    "                    rate=samp_rate,\n",
    "                    channels=chans,\n",
    "                    input_device_index = dev_index,\n",
    "                    input=True,\n",
    "                    frames_per_buffer=chunk)\n",
    "\n",
    "    # the code below is from the pyAudio library documentation referenced below\n",
    "    #output stream setup\n",
    "    player = p.open(format = form_1,\n",
    "                    rate=samp_rate,\n",
    "                    channels=chans,\n",
    "                    output=True,\n",
    "                    frames_per_buffer=chunk)\n",
    "\n",
    "    text_status.delete('1.0', tk.END)\n",
    "    text_status.insert('1.0', \"Broadcasting & Recording\")     \n",
    "    print(\"Broadcasting & Recording\")\n",
    "    frames = []\n",
    "    frames_numpy = []\n",
    "\n",
    "    for ii in range(0,int((samp_rate/chunk)*record_secs)):\n",
    "        data = stream.read(chunk,exception_on_overflow = False)\n",
    "        frames.append(data)\n",
    "    \n",
    "        data_numpy = np.fromstring(data, dtype=np.int16)\n",
    "        player.write(data_numpy, chunk)\n",
    "        frames_numpy.append(data_numpy)\n",
    "        \n",
    "    text_status.delete('1.0', tk.END)\n",
    "    text_status.insert('1.0', \"Finished recording\")     \n",
    "    print(\"Finished recording\")\n",
    "\n",
    "    stream.stop_stream()\n",
    "    stream.close()\n",
    "    p.terminate()\n",
    "\n",
    "    #creates wave file with audio read in\n",
    "    #Code is from the wave file audio tutorial as referenced below\n",
    "    wavefile = wave.open(wav_output_filename,'wb')\n",
    "    wavefile.setnchannels(chans)\n",
    "    wavefile.setsampwidth(p.get_sample_size(form_1))\n",
    "    wavefile.setframerate(samp_rate)\n",
    "    wavefile.writeframes(b''.join(frames))\n",
    "    wavefile.close()\n",
    "\n",
    "    #plays the audio file\n",
    "    #os.system(\"aplay \" + filename_wav)    \n",
    "    \n",
    "    # Export the plot:\n",
    "    '''\n",
    "    fig = plt.figure()\n",
    "    s = fig.add_subplot(111)\n",
    "    s.plot(frames_numpy)\n",
    "    fig.savefig(png_output_filename, dpi=200)\n",
    "    '''\n",
    "    np.save(np_output_filename, frames_numpy)"
   ]
  },
  {
   "cell_type": "code",
   "execution_count": 7,
   "metadata": {},
   "outputs": [
    {
     "data": {
      "text/plain": [
       "'\\nGPIO.add_event_detect(10,GPIO.RISING,callback=button_callback) # Setup event on pin 10 rising edge\\n\\n\\nmessage = input(\"Press enter to quit\\n\\n\") # Run until someone presses enter\\nGPIO.cleanup() # Clean up\\n'"
      ]
     },
     "execution_count": 7,
     "metadata": {},
     "output_type": "execute_result"
    }
   ],
   "source": [
    "'''\n",
    "GPIO.add_event_detect(10,GPIO.RISING,callback=button_callback) # Setup event on pin 10 rising edge\n",
    "\n",
    "\n",
    "message = input(\"Press enter to quit\\n\\n\") # Run until someone presses enter\n",
    "GPIO.cleanup() # Clean up\n",
    "'''"
   ]
  },
  {
   "cell_type": "code",
   "execution_count": 8,
   "metadata": {},
   "outputs": [],
   "source": [
    "root = tk.Tk()\n",
    "\n",
    "root.geometry(\"{0}x{1}+0+0\".format(root.winfo_screenwidth(), root.winfo_screenheight()))\n",
    "#root.attributes('-fullscreen', True)\n",
    "root.title('Auscul Pi -- A ear-contactless stethoscope')\n",
    "\n",
    "# Text Editor\n",
    "text_status = tk.Text(root, width=30, height=1, font=('tahoma', 30), bd=2, wrap='none')\n",
    "text_status.place(x=50, y=20)\n",
    "\n",
    "# Buttons\n",
    "\n",
    "button_auscultate = tk.Button(root, text=\"Auscultate\", width=20, font=('tahoma', 30), \n",
    "                         command=button_callback)\n",
    "button_auscultate.place(x=50, y=100)\n",
    "\n",
    "button_replay = tk.Button(root, text=\"Replay\", width=20, font=('tahoma', 30), command=replay)\n",
    "button_replay.place(x=50, y=200)\n",
    "\n",
    "button_about = tk.Button(root, text=\"About...\", width=12, font=('tahoma', 30), command=about)\n",
    "button_about.place(x=600, y=100)\n",
    "\n",
    "button_exit = tk.Button(root, text=\"Exit\", width=12, font=('tahoma', 30), command=root.destroy)\n",
    "button_exit.place(x=600, y=200)\n",
    "\n",
    "\n",
    "root.mainloop()"
   ]
  }
 ],
 "metadata": {
  "kernelspec": {
   "display_name": "Python 3",
   "language": "python",
   "name": "python3"
  },
  "language_info": {
   "codemirror_mode": {
    "name": "ipython",
    "version": 3
   },
   "file_extension": ".py",
   "mimetype": "text/x-python",
   "name": "python",
   "nbconvert_exporter": "python",
   "pygments_lexer": "ipython3",
   "version": "3.7.4"
  }
 },
 "nbformat": 4,
 "nbformat_minor": 2
}
